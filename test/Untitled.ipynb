{
 "cells": [
  {
   "cell_type": "code",
   "execution_count": 50,
   "metadata": {
    "collapsed": false
   },
   "outputs": [],
   "source": [
    "import numpy as np"
   ]
  },
  {
   "cell_type": "code",
   "execution_count": 82,
   "metadata": {
    "collapsed": false
   },
   "outputs": [],
   "source": [
    "N = 128\n",
    "x = np.random.randn(128,128)\n",
    "\n",
    "class arr():\n",
    "    def __init__(self, x):\n",
    "        self.y = np.zeros(x.shape)\n",
    "        self.z = np.zeros(x.shape)"
   ]
  },
  {
   "cell_type": "code",
   "execution_count": 83,
   "metadata": {
    "collapsed": false
   },
   "outputs": [
    {
     "name": "stdout",
     "output_type": "stream",
     "text": [
      "1 loops, best of 3: 269 ms per loop\n"
     ]
    }
   ],
   "source": [
    "intx, inty = np.meshgrid(np.arange(N), np.arange(N))\n",
    "\n",
    "def permut(x, intx, inty):\n",
    "    arr1 = arr(x)\n",
    "    for i in range(N):\n",
    "        for j in range(N):\n",
    "            arr1.y[i,j] = x[intx[i,j], inty[i,j]]\n",
    "            arr1.z[i,j] = x[intx[i,j], inty[i,j]]\n",
    "                        \n",
    "%timeit for i in range(10):permut(x,intx,inty)"
   ]
  },
  {
   "cell_type": "code",
   "execution_count": 87,
   "metadata": {
    "collapsed": false
   },
   "outputs": [
    {
     "name": "stdout",
     "output_type": "stream",
     "text": [
      "The slowest run took 243.37 times longer than the fastest. This could mean that an intermediate result is being cached \n",
      "1 loops, best of 3: 1.04 ms per loop\n"
     ]
    }
   ],
   "source": [
    "@jit\n",
    "def sum2d(x, intx, inty, N):\n",
    "    y = np.zeros(x.shape)\n",
    "    z = np.zeros(x.shape)\n",
    "    for i in range(N):\n",
    "        for j in range(N):\n",
    "            y[i,j] = x[intx[i,j], inty[i,j]]\n",
    "            z[i,j] = x[intx[i,j], inty[i,j]]\n",
    "            \n",
    "    return y,z\n",
    "            \n",
    "%timeit for i in range(10):sum2d(x,intx,inty, N)"
   ]
  },
  {
   "cell_type": "code",
   "execution_count": 43,
   "metadata": {
    "collapsed": false
   },
   "outputs": [
    {
     "name": "stdout",
     "output_type": "stream",
     "text": [
      "0, (0, 0)\n",
      "1, (0, 1)\n",
      "2, (0, 2)\n",
      "3, (1, 0)\n",
      "4, (1, 1)\n",
      "5, (1, 2)\n",
      "[[-0.82734478  0.16644506 -1.03011769]\n",
      " [ 0.05852371  1.21518809 -1.78707343]]\n",
      "[[-0.82734478  0.16644506 -1.03011769]\n",
      " [ 0.05852371  1.21518809 -1.78707343]]\n"
     ]
    }
   ],
   "source": [
    "it = np.nditer(a, flags=['multi_index'], op_flags=['writeonly'])\n",
    "\n",
    "while not it.finished:\n",
    "    print \"%d, %s\" %(it[0], it.multi_index)\n",
    "    it[0] = b[it.multi_index[0], it.multi_index[1]]\n",
    "    it.iternext()\n",
    "print a\n",
    "print b"
   ]
  },
  {
   "cell_type": "code",
   "execution_count": 60,
   "metadata": {
    "collapsed": true
   },
   "outputs": [],
   "source": [
    "from numba import jit"
   ]
  },
  {
   "cell_type": "code",
   "execution_count": null,
   "metadata": {
    "collapsed": true
   },
   "outputs": [],
   "source": []
  }
 ],
 "metadata": {
  "kernelspec": {
   "display_name": "Python 2",
   "language": "python",
   "name": "python2"
  },
  "language_info": {
   "codemirror_mode": {
    "name": "ipython",
    "version": 2
   },
   "file_extension": ".py",
   "mimetype": "text/x-python",
   "name": "python",
   "nbconvert_exporter": "python",
   "pygments_lexer": "ipython2",
   "version": "2.7.11"
  }
 },
 "nbformat": 4,
 "nbformat_minor": 0
}
